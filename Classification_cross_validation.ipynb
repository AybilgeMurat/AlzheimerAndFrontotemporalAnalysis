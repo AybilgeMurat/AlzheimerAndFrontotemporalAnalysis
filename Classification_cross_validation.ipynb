{
 "cells": [
  {
   "cell_type": "code",
   "execution_count": 25,
   "id": "07015d56",
   "metadata": {},
   "outputs": [],
   "source": [
    "import numpy as np\n",
    "from model_functions import *\n",
    "from Classification_models_LOSO_2Class import *\n",
    "import matplotlib.pyplot as plt\n",
    "import warnings\n",
    "warnings.filterwarnings('ignore')"
   ]
  },
  {
   "cell_type": "markdown",
   "id": "08863921",
   "metadata": {},
   "source": [
    "Bu not defterinde: göreceli bant gücü özelliklerini kullanarak veriler üzerinde farklı sınıflandırma yöntemlerini test ediyoruz. Ayrıca, farklı frekans bantları ve epok uzunlukları ile de denemeler yaptık ve burada yalnızca en iyi performansı gösterenleri rapor ediyoruz. Performansı Bir-Konu-Dışarıda Bırak çapraz doğrulama ile ölçüyoruz. Bu çapraz doğrulama yöntemi tüm denekler arasında yineleme yapar, her seferinde bir deneği dışarıda bırakır, veri kümesinin geri kalanını kullanarak bir model oluşturur ve ardından dışarıda bırakılan deneğe karşılık gelen veriler üzerinde bu modelin tahminleri için karışıklık matrisini hesaplar. Böyle bir çapraz doğrulamayı gerçekleştirmek için gerekli işlevler \"Classification_models_functions_LOSO_2Class.py\" dosyasında saklanmaktadır."
   ]
  },
  {
   "cell_type": "markdown",
   "id": "fc83c6c6",
   "metadata": {},
   "source": [
    "Aşağıdaki kod parçası göreceli bant gücü verilerini hesaplar ve config.py dosyasında yazdığınız dosya yoluna bilgisayarınıza kaydeder. Yalnızca bir kez çalıştırmanız ve ardından yorumlamanız gerekir. Kullanılan tüm fonksiyonlar model_functions dosyasında tanımlanmıştır."
   ]
  },
  {
   "cell_type": "code",
   "execution_count": 26,
   "id": "dd9e51ef",
   "metadata": {},
   "outputs": [],
   "source": [
    "\n",
    "subject_data, freqs, targets = load_data(duration=120,overlap=60,seg_length=4)\n",
    "save_psds(subject_data,freqs,targets,'all_psds_very_long.pickle')\n"
   ]
  },
  {
   "cell_type": "code",
   "execution_count": 27,
   "id": "be45b354",
   "metadata": {},
   "outputs": [],
   "source": [
    "subject_data, freqs, targets = load_psds('all_psds_very_long.pickle')\n",
    "test_labels = align_test_labels(classes=['A','C'])\n",
    "features, targets = remove_class(subject_data,targets,'F')\n",
    "features, targets = remove_test(features,targets,test_labels)\n",
    "rbps = [relative_band_power(features[i],freqs,freq_bands=[0.5,4.0,7.0,9.0,11.0,13.0,25.0]) \n",
    "        for i in range(len(features))]"
   ]
  },
  {
   "cell_type": "code",
   "execution_count": 28,
   "id": "d00305d5",
   "metadata": {},
   "outputs": [],
   "source": [
    "rbps = remove_channel(rbps, ['F3','F4', 'C4', 'F8'])"
   ]
  },
  {
   "cell_type": "code",
   "execution_count": 29,
   "id": "8b63132b",
   "metadata": {},
   "outputs": [
    {
     "data": {
      "text/plain": [
       "702"
      ]
     },
     "execution_count": 29,
     "metadata": {},
     "output_type": "execute_result"
    }
   ],
   "source": [
    "sum(rbps[i].shape[0] for i in range(len(rbps)))"
   ]
  },
  {
   "cell_type": "code",
   "execution_count": 30,
   "id": "17c376c4",
   "metadata": {},
   "outputs": [
    {
     "data": {
      "text/plain": [
       "(12, 15, 6)"
      ]
     },
     "execution_count": 30,
     "metadata": {},
     "output_type": "execute_result"
    }
   ],
   "source": [
    "rbps[1].shape"
   ]
  },
  {
   "cell_type": "code",
   "execution_count": 31,
   "id": "fc0ecb2c",
   "metadata": {},
   "outputs": [],
   "source": [
    "# Bu değişkenler, daha sonra çizmek üzere çeşitli modeller için doğrulukları ve ilgili modelleri kaydedecektir. \n",
    "accuracies = []\n",
    "Models = []"
   ]
  },
  {
   "cell_type": "markdown",
   "id": "1c10c2d4",
   "metadata": {},
   "source": [
    "Daha sonra tüm farklı sınıflandırma algoritmalarını deniyoruz. Gerekli fonksiyonlar Classification_models_LOSO_2Class dosyasındadır"
   ]
  },
  {
   "cell_type": "markdown",
   "id": "174b7f8f",
   "metadata": {},
   "source": [
    "### k nearest neighbor classifier"
   ]
  },
  {
   "cell_type": "code",
   "execution_count": 32,
   "id": "83b1bc44",
   "metadata": {
    "scrolled": true
   },
   "outputs": [
    {
     "data": {
      "text/plain": [
       "({'acc': 0.9776404151404151,\n",
       "  'sens': 0.9892574444025631,\n",
       "  'spec': 0.9640092879256966,\n",
       "  'f1': 0.9794966294231532},\n",
       " {'acc': 0.7336182336182336,\n",
       "  'sens': 0.7783641160949868,\n",
       "  'spec': 0.6811145510835913,\n",
       "  'f1': 0.7593307593307593})"
      ]
     },
     "execution_count": 32,
     "metadata": {},
     "output_type": "execute_result"
    }
   ],
   "source": [
    "train_metric_dict, val_metric_dict = kNN_cross(rbps, targets, n_neighbors = 5, PCA_components = 0)\n",
    "train_metric_dict, val_metric_dict"
   ]
  },
  {
   "cell_type": "code",
   "execution_count": 33,
   "id": "3105d046",
   "metadata": {},
   "outputs": [],
   "source": [
    "Models += ['kNN']\n",
    "accuracies += [val_metric_dict['acc']]"
   ]
  },
  {
   "cell_type": "markdown",
   "id": "3b2ebb01",
   "metadata": {},
   "source": [
    "### Logistic Regression"
   ]
  },
  {
   "cell_type": "code",
   "execution_count": 34,
   "id": "ab6fb769",
   "metadata": {
    "scrolled": false
   },
   "outputs": [
    {
     "data": {
      "text/plain": [
       "({'acc': 0.9878663003663004,\n",
       "  'sens': 0.991424802110818,\n",
       "  'spec': 0.9836908447589562,\n",
       "  'f1': 0.9887925565658702},\n",
       " {'acc': 0.8304843304843305,\n",
       "  'sens': 0.8575197889182058,\n",
       "  'spec': 0.7987616099071208,\n",
       "  'f1': 0.8452535760728218})"
      ]
     },
     "execution_count": 34,
     "metadata": {},
     "output_type": "execute_result"
    }
   ],
   "source": [
    "train_metric_dict, val_metric_dict = log_reg_cross(rbps, targets, PCA_components = 85, reg_parameter = 1)\n",
    "train_metric_dict, val_metric_dict"
   ]
  },
  {
   "cell_type": "code",
   "execution_count": 35,
   "id": "b26e61e7",
   "metadata": {},
   "outputs": [],
   "source": [
    "Models += ['log_reg']\n",
    "accuracies += [val_metric_dict['acc']]"
   ]
  },
  {
   "cell_type": "markdown",
   "id": "cbd9c0c5",
   "metadata": {},
   "source": [
    "### SVM"
   ]
  },
  {
   "cell_type": "code",
   "execution_count": 36,
   "id": "6f89431e",
   "metadata": {},
   "outputs": [
    {
     "data": {
      "text/plain": [
       "({'acc': 0.9948361823361823,\n",
       "  'sens': 0.9978797587636637,\n",
       "  'spec': 0.9912649270234409,\n",
       "  'f1': 0.995230375226146},\n",
       " {'acc': 0.8917378917378918,\n",
       "  'sens': 0.9129287598944591,\n",
       "  'spec': 0.8668730650154799,\n",
       "  'f1': 0.9010416666666667})"
      ]
     },
     "execution_count": 36,
     "metadata": {},
     "output_type": "execute_result"
    }
   ],
   "source": [
    "train_metric_dict, val_metric_dict = svm_cross(rbps, targets,kernel='linear',\n",
    "                                               reg_parameter=1.21)\n",
    "train_metric_dict, val_metric_dict"
   ]
  },
  {
   "cell_type": "code",
   "execution_count": 37,
   "id": "e330e194",
   "metadata": {},
   "outputs": [],
   "source": [
    "Models += ['SVC']\n",
    "accuracies += [val_metric_dict['acc']]"
   ]
  },
  {
   "cell_type": "markdown",
   "id": "295a7b23",
   "metadata": {},
   "source": [
    "### Random Forest classifier"
   ]
  },
  {
   "cell_type": "code",
   "execution_count": 38,
   "id": "5f7f2de7",
   "metadata": {},
   "outputs": [
    {
     "data": {
      "text/plain": [
       "({'acc': 0.999567562067562,\n",
       "  'sens': 0.9998586505842443,\n",
       "  'spec': 0.9992260061919505,\n",
       "  'f1': 0.9995996137450247},\n",
       " {'acc': 0.7663817663817664,\n",
       "  'sens': 0.7915567282321899,\n",
       "  'spec': 0.7368421052631579,\n",
       "  'f1': 0.7853403141361256})"
      ]
     },
     "execution_count": 38,
     "metadata": {},
     "output_type": "execute_result"
    }
   ],
   "source": [
    "train_metric_dict, val_metric_dict = RF_cross(rbps, targets, n_estimators = 25, \n",
    "                                              min_samples_split = 4, PCA_components = 0)\n",
    "train_metric_dict, val_metric_dict"
   ]
  },
  {
   "cell_type": "code",
   "execution_count": 39,
   "id": "cabe9ef2",
   "metadata": {},
   "outputs": [],
   "source": [
    "Models += ['RF']\n",
    "accuracies += [val_metric_dict['acc']]"
   ]
  },
  {
   "cell_type": "markdown",
   "id": "43e85f6c",
   "metadata": {},
   "source": [
    "### Multilayer Perceptron"
   ]
  },
  {
   "cell_type": "code",
   "execution_count": 40,
   "id": "723b780c",
   "metadata": {},
   "outputs": [
    {
     "data": {
      "text/plain": [
       "({'acc': 0.8947140822140822,\n",
       "  'sens': 0.8684036939313984,\n",
       "  'spec': 0.9255860238832375,\n",
       "  'f1': 0.8990512426526182},\n",
       " {'acc': 0.6894586894586895,\n",
       "  'sens': 0.6464379947229552,\n",
       "  'spec': 0.739938080495356,\n",
       "  'f1': 0.692090395480226})"
      ]
     },
     "execution_count": 40,
     "metadata": {},
     "output_type": "execute_result"
    }
   ],
   "source": [
    "train_metric_dict, val_metric_dict = mlp_cross(rbps, targets, PCA_components = 35, \n",
    "                                               max_iter = 600, hidden_layer_sizes=(3,1))\n",
    "train_metric_dict, val_metric_dict"
   ]
  },
  {
   "cell_type": "code",
   "execution_count": 41,
   "id": "406b4c0c",
   "metadata": {},
   "outputs": [],
   "source": [
    "Models += ['MLP']\n",
    "accuracies += [val_metric_dict['acc']]"
   ]
  },
  {
   "cell_type": "markdown",
   "id": "7d129157",
   "metadata": {},
   "source": [
    "### Performance Plot"
   ]
  },
  {
   "cell_type": "code",
   "execution_count": 42,
   "id": "ed5cb0e4",
   "metadata": {},
   "outputs": [],
   "source": [
    "zipped_list = zip(accuracies, Models)\n",
    "Models_s = [x for _,x in sorted(zipped_list)]\n",
    "accuracies_s = sorted(accuracies)"
   ]
  },
  {
   "cell_type": "code",
   "execution_count": 43,
   "id": "09de61d4",
   "metadata": {},
   "outputs": [
    {
     "data": {
      "image/png": "[encoded data removed]",
      "text/plain": [
       "<Figure size 800x200 with 1 Axes>"
      ]
     },
     "metadata": {},
     "output_type": "display_data"
    }
   ],
   "source": [
    "plt.figure(figsize = (8,2))\n",
    "plt.plot(accuracies_s, '-o')\n",
    "plt.xticks(ticks = [i for i in range(len(Models_s))], labels = Models_s)\n",
    "plt.xlabel('Modeller')\n",
    "plt.ylabel('ACC')\n",
    "plt.title('Çeşitli modeller için çapraz doğrulama doğrulukları')\n",
    "#plt.savefig('../Figures/Model_performances.png')\n",
    "plt.show()"
   ]
  }
 ],
 "metadata": {
  "kernelspec": {
   "display_name": "Python 3 (ipykernel)",
   "language": "python",
   "name": "python3"
  },
  "language_info": {
   "codemirror_mode": {
    "name": "ipython",
    "version": 3
   },
   "file_extension": ".py",
   "mimetype": "text/x-python",
   "name": "python",
   "nbconvert_exporter": "python",
   "pygments_lexer": "ipython3",
   "version": "3.11.4"
  }
 },
 "nbformat": 4,
 "nbformat_minor": 5
}
